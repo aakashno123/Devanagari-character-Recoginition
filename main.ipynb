{
 "cells": [
  {
   "cell_type": "code",
   "execution_count": 1,
   "metadata": {},
   "outputs": [],
   "source": [
    "import pandas as pd"
   ]
  },
  {
   "cell_type": "code",
   "execution_count": 2,
   "metadata": {},
   "outputs": [],
   "source": [
    "from sklearn.model_selection import train_test_split"
   ]
  },
  {
   "cell_type": "code",
   "execution_count": 3,
   "metadata": {},
   "outputs": [
    {
     "name": "stderr",
     "output_type": "stream",
     "text": [
      "Using TensorFlow backend.\n"
     ]
    }
   ],
   "source": [
    "import keras\n",
    "from keras.datasets import mnist\n",
    "from keras.models import Sequential\n",
    "from keras.layers import Dense, Dropout, Flatten\n",
    "from keras.layers import Conv2D, MaxPooling2D\n",
    "from keras import backend as K"
   ]
  },
  {
   "cell_type": "code",
   "execution_count": null,
   "metadata": {},
   "outputs": [],
   "source": []
  },
  {
   "cell_type": "code",
   "execution_count": 4,
   "metadata": {},
   "outputs": [],
   "source": [
    "data=pd.read_csv('mainData.csv')"
   ]
  },
  {
   "cell_type": "code",
   "execution_count": null,
   "metadata": {},
   "outputs": [],
   "source": []
  },
  {
   "cell_type": "code",
   "execution_count": 6,
   "metadata": {},
   "outputs": [],
   "source": [
    "X=data.drop(['Unnamed: 0','class'],axis=1).values"
   ]
  },
  {
   "cell_type": "code",
   "execution_count": 7,
   "metadata": {},
   "outputs": [],
   "source": [
    "Y=data['class'].values"
   ]
  },
  {
   "cell_type": "code",
   "execution_count": 15,
   "metadata": {},
   "outputs": [],
   "source": [
    "del data"
   ]
  },
  {
   "cell_type": "code",
   "execution_count": 16,
   "metadata": {},
   "outputs": [
    {
     "name": "stdout",
     "output_type": "stream",
     "text": [
      "(63552, 1600)\n",
      "(63552,)\n"
     ]
    }
   ],
   "source": [
    "print(X.shape)\n",
    "print(Y.shape)"
   ]
  },
  {
   "cell_type": "code",
   "execution_count": null,
   "metadata": {},
   "outputs": [],
   "source": []
  },
  {
   "cell_type": "code",
   "execution_count": null,
   "metadata": {},
   "outputs": [],
   "source": []
  },
  {
   "cell_type": "code",
   "execution_count": null,
   "metadata": {},
   "outputs": [],
   "source": []
  },
  {
   "cell_type": "code",
   "execution_count": 10,
   "metadata": {},
   "outputs": [
    {
     "name": "stdout",
     "output_type": "stream",
     "text": [
      "63552   63552\n"
     ]
    }
   ],
   "source": [
    "print(len(X),\" \",len(Y))"
   ]
  },
  {
   "cell_type": "code",
   "execution_count": 53,
   "metadata": {},
   "outputs": [],
   "source": [
    "Xtrain,Xtest,Ytrain,Ytest=train_test_split(X,Y,test_size=0.2)"
   ]
  },
  {
   "cell_type": "code",
   "execution_count": 54,
   "metadata": {},
   "outputs": [
    {
     "name": "stdout",
     "output_type": "stream",
     "text": [
      "50841   50841\n"
     ]
    }
   ],
   "source": [
    "print(len(Xtrain),\" \",len(Ytrain))"
   ]
  },
  {
   "cell_type": "code",
   "execution_count": 55,
   "metadata": {},
   "outputs": [],
   "source": [
    "row=40\n",
    "col=40"
   ]
  },
  {
   "cell_type": "code",
   "execution_count": 56,
   "metadata": {},
   "outputs": [],
   "source": [
    "if K.image_data_format() == 'channels_first':\n",
    "    Xtrain = Xtrain.reshape(Xtrain.shape[0], 1, row, col)\n",
    "    Xtest = Xtest.reshape(Xtest.shape[0], 1, row, col)\n",
    "    input_shape = (1, row, col)\n",
    "else:\n",
    "    Xtrain = Xtrain.reshape(Xtrain.shape[0], row, col, 1)\n",
    "    Xtest = Xtest.reshape(Xtest.shape[0], row, col, 1)\n",
    "    input_shape = (row, col, 1)"
   ]
  },
  {
   "cell_type": "code",
   "execution_count": 57,
   "metadata": {},
   "outputs": [],
   "source": [
    "Xtrain=Xtrain.astype('float32')\n",
    "Xtest=Xtest.astype('float32')"
   ]
  },
  {
   "cell_type": "code",
   "execution_count": 58,
   "metadata": {},
   "outputs": [],
   "source": [
    "Xtrain=Xtrain/255\n",
    "Xtest=Xtest/255"
   ]
  },
  {
   "cell_type": "code",
   "execution_count": null,
   "metadata": {},
   "outputs": [],
   "source": []
  },
  {
   "cell_type": "code",
   "execution_count": 59,
   "metadata": {},
   "outputs": [],
   "source": [
    "Ytrain=keras.utils.to_categorical(Ytrain,num_classes=332)\n",
    "Ytest=keras.utils.to_categorical(Ytest,num_classes=332)"
   ]
  },
  {
   "cell_type": "code",
   "execution_count": 60,
   "metadata": {},
   "outputs": [
    {
     "name": "stdout",
     "output_type": "stream",
     "text": [
      "12711 50841\n"
     ]
    }
   ],
   "source": [
    "print(len(Ytest),\n",
    "len(Ytrain))"
   ]
  },
  {
   "cell_type": "code",
   "execution_count": 61,
   "metadata": {},
   "outputs": [],
   "source": [
    "model = Sequential()\n",
    "model.add(Conv2D(32, kernel_size=(3, 3),activation='relu',input_shape=input_shape))\n",
    "model.add(Conv2D(64, (3, 3), activation='relu'))\n",
    "model.add(MaxPooling2D(pool_size=(2, 2)))\n",
    "model.add(Dropout(0.3))\n",
    "model.add(Flatten())\n",
    "model.add(Dense(400, activation='relu'))\n",
    "model.add(Dropout(0.3))\n",
    "model.add(Dense(400, activation='relu'))\n",
    "model.add(Dropout(0.3))\n",
    "model.add(Dense(332, activation='softmax'))"
   ]
  },
  {
   "cell_type": "code",
   "execution_count": 62,
   "metadata": {},
   "outputs": [],
   "source": [
    "model.compile(loss=keras.losses.categorical_crossentropy,optimizer=keras.optimizers.Adadelta(),metrics=['accuracy'])"
   ]
  },
  {
   "cell_type": "code",
   "execution_count": 64,
   "metadata": {},
   "outputs": [
    {
     "name": "stdout",
     "output_type": "stream",
     "text": [
      "Train on 50841 samples, validate on 12711 samples\n",
      "Epoch 1/20\n",
      "50841/50841 [==============================] - 141s 3ms/step - loss: 5.7719 - accuracy: 0.0044 - val_loss: 5.4201 - val_accuracy: 0.0090\n",
      "Epoch 2/20\n",
      "50841/50841 [==============================] - 146s 3ms/step - loss: 4.5911 - accuracy: 0.0587 - val_loss: 3.3455 - val_accuracy: 0.2051\n",
      "Epoch 3/20\n",
      "50841/50841 [==============================] - 139s 3ms/step - loss: 2.9878 - accuracy: 0.2527 - val_loss: 1.9394 - val_accuracy: 0.5029\n",
      "Epoch 4/20\n",
      "50841/50841 [==============================] - 144s 3ms/step - loss: 2.0557 - accuracy: 0.4443 - val_loss: 1.3089 - val_accuracy: 0.6664\n",
      "Epoch 5/20\n",
      "50841/50841 [==============================] - 137s 3ms/step - loss: 1.5238 - accuracy: 0.5712 - val_loss: 0.9901 - val_accuracy: 0.7346\n",
      "Epoch 6/20\n",
      "50841/50841 [==============================] - 139s 3ms/step - loss: 1.1877 - accuracy: 0.6554 - val_loss: 0.7276 - val_accuracy: 0.8031\n",
      "Epoch 7/20\n",
      "50841/50841 [==============================] - 141s 3ms/step - loss: 0.9821 - accuracy: 0.7109 - val_loss: 0.6040 - val_accuracy: 0.8353\n",
      "Epoch 8/20\n",
      "50841/50841 [==============================] - 141s 3ms/step - loss: 0.8233 - accuracy: 0.7540 - val_loss: 0.5284 - val_accuracy: 0.8471\n",
      "Epoch 9/20\n",
      "50841/50841 [==============================] - 142s 3ms/step - loss: 0.7132 - accuracy: 0.7869 - val_loss: 0.4873 - val_accuracy: 0.8577\n",
      "Epoch 10/20\n",
      "50841/50841 [==============================] - 143s 3ms/step - loss: 0.6300 - accuracy: 0.8106 - val_loss: 0.4060 - val_accuracy: 0.8836\n",
      "Epoch 11/20\n",
      "50841/50841 [==============================] - 141s 3ms/step - loss: 0.5570 - accuracy: 0.8310 - val_loss: 0.3670 - val_accuracy: 0.8924\n",
      "Epoch 12/20\n",
      "50841/50841 [==============================] - 140s 3ms/step - loss: 0.5098 - accuracy: 0.8467 - val_loss: 0.3447 - val_accuracy: 0.8983\n",
      "Epoch 13/20\n",
      "50841/50841 [==============================] - 141s 3ms/step - loss: 0.4779 - accuracy: 0.8558 - val_loss: 0.3175 - val_accuracy: 0.9081\n",
      "Epoch 14/20\n",
      "50841/50841 [==============================] - 142s 3ms/step - loss: 0.4310 - accuracy: 0.8698 - val_loss: 0.3217 - val_accuracy: 0.9058\n",
      "Epoch 15/20\n",
      "50841/50841 [==============================] - 145s 3ms/step - loss: 0.4116 - accuracy: 0.8756 - val_loss: 0.3053 - val_accuracy: 0.9089\n",
      "Epoch 16/20\n",
      "50841/50841 [==============================] - 141s 3ms/step - loss: 0.3786 - accuracy: 0.8844 - val_loss: 0.2794 - val_accuracy: 0.9189\n",
      "Epoch 17/20\n",
      "50841/50841 [==============================] - 138s 3ms/step - loss: 0.3554 - accuracy: 0.8927 - val_loss: 0.2709 - val_accuracy: 0.9213\n",
      "Epoch 18/20\n",
      "50841/50841 [==============================] - 139s 3ms/step - loss: 0.3430 - accuracy: 0.8965 - val_loss: 0.2627 - val_accuracy: 0.9223\n",
      "Epoch 19/20\n",
      "50841/50841 [==============================] - 139s 3ms/step - loss: 0.3263 - accuracy: 0.9022 - val_loss: 0.2528 - val_accuracy: 0.9267\n",
      "Epoch 20/20\n",
      "50841/50841 [==============================] - 138s 3ms/step - loss: 0.3097 - accuracy: 0.9057 - val_loss: 0.2495 - val_accuracy: 0.9269\n"
     ]
    },
    {
     "data": {
      "text/plain": [
       "<keras.callbacks.callbacks.History at 0x1dde49b3b38>"
      ]
     },
     "execution_count": 64,
     "metadata": {},
     "output_type": "execute_result"
    }
   ],
   "source": [
    "model.fit(Xtrain, Ytrain,batch_size=256,epochs=20,validation_data=(Xtest, Ytest))"
   ]
  },
  {
   "cell_type": "code",
   "execution_count": 65,
   "metadata": {},
   "outputs": [],
   "source": [
    "s= model.evaluate(Xtest, Ytest, verbose=0)"
   ]
  },
  {
   "cell_type": "code",
   "execution_count": 66,
   "metadata": {},
   "outputs": [
    {
     "name": "stdout",
     "output_type": "stream",
     "text": [
      "Accuracy :  0.9269136786460876\n"
     ]
    }
   ],
   "source": [
    "print('Accuracy : ', s[1])"
   ]
  },
  {
   "cell_type": "code",
   "execution_count": null,
   "metadata": {},
   "outputs": [],
   "source": []
  }
 ],
 "metadata": {
  "kernelspec": {
   "display_name": "Python 3",
   "language": "python",
   "name": "python3"
  },
  "language_info": {
   "codemirror_mode": {
    "name": "ipython",
    "version": 3
   },
   "file_extension": ".py",
   "mimetype": "text/x-python",
   "name": "python",
   "nbconvert_exporter": "python",
   "pygments_lexer": "ipython3",
   "version": "3.7.4"
  }
 },
 "nbformat": 4,
 "nbformat_minor": 2
}
